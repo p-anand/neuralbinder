{
 "cells": [
  {
   "cell_type": "code",
   "execution_count": 3,
   "metadata": {
    "collapsed": true
   },
   "outputs": [],
   "source": [
    "from __future__ import absolute_import\n",
    "from __future__ import division\n",
    "from __future__ import print_function\n",
    "\n",
    "import os, sys, h5py\n",
    "import numpy as np\n",
    "from six.moves import cPickle\n",
    "\n",
    "import matplotlib.pyplot as plt\n",
    "%matplotlib inline"
   ]
  },
  {
   "cell_type": "code",
   "execution_count": 15,
   "metadata": {
    "collapsed": false
   },
   "outputs": [],
   "source": [
    "\n",
    "# different deep learning models to try out\n",
    "models = ['affinity_conv_net', 'affinity_residual_net']\n",
    "normalize_method = 'log_norm'   # 'clip_norm'\n",
    "ss_types = ['seq', 'pu']#, 'struct']\n",
    "\n",
    "results_path = os.path.join('../../results', 'RNAcompete_2009')"
   ]
  },
  {
   "cell_type": "code",
   "execution_count": 20,
   "metadata": {
    "collapsed": false
   },
   "outputs": [
    {
     "name": "stdout",
     "output_type": "stream",
     "text": [
      "seq\n",
      "model: affinity_conv_net\n",
      "0.692687\n",
      "model: affinity_residual_net\n",
      "0.700668\n",
      "pu\n",
      "model: affinity_conv_net\n",
      "0.701503\n",
      "model: affinity_residual_net\n",
      "0.70879\n"
     ]
    }
   ],
   "source": [
    "\n",
    "# get list of rnacompete experiments\n",
    "rbp_names = ['Fusip', 'HuR', 'PTB', 'RBM4', 'SF2', 'SLM2', 'U1A', 'VTS1', 'YB1']\n",
    "\n",
    "# loop over different secondary structure contexts\n",
    "all_results = {}\n",
    "for ss_type in ss_types:\n",
    "    sstype_path = os.path.join(results_path, normalize_method+'_'+ss_type)\n",
    "    print(ss_type)\n",
    "\n",
    "    # loop over different models\n",
    "    for model in models:\n",
    "        print('model: ' + model)\n",
    "        model_path = os.path.join(sstype_path, model)\n",
    "\n",
    "        # save results\n",
    "        with open(os.path.join(model_path, 'validation_scores.pickle'), 'rb') as f:\n",
    "            results = cPickle.load(f)\n",
    "        print(np.mean(results))"
   ]
  },
  {
   "cell_type": "code",
   "execution_count": 19,
   "metadata": {
    "collapsed": false
   },
   "outputs": [
    {
     "name": "stdout",
     "output_type": "stream",
     "text": [
      "seq\n",
      "model: affinity_conv_net\n",
      "0.667382\n",
      "model: affinity_residual_net\n",
      "0.677593\n",
      "pu\n",
      "model: affinity_conv_net\n",
      "0.672724\n",
      "model: affinity_residual_net\n",
      "0.682215\n"
     ]
    }
   ],
   "source": [
    "\n",
    "# get list of rnacompete experiments\n",
    "rbp_names = ['Fusip', 'HuR', 'PTB', 'RBM4', 'SF2', 'SLM2', 'U1A', 'VTS1', 'YB1']\n",
    "\n",
    "# loop over different secondary structure contexts\n",
    "all_results = {}\n",
    "for ss_type in ss_types:\n",
    "    sstype_path = os.path.join(results_path, 'mixed_'+normalize_method+'_'+ss_type)\n",
    "    print(ss_type)\n",
    "\n",
    "    # loop over different models\n",
    "    for model in models:\n",
    "        print('model: ' + model)\n",
    "        model_path = os.path.join(sstype_path, model)\n",
    "\n",
    "        # save results\n",
    "        with open(os.path.join(model_path, 'validation_scores.pickle'), 'rb') as f:\n",
    "            results = cPickle.load(f)\n",
    "        print(np.mean(results))\n"
   ]
  },
  {
   "cell_type": "code",
   "execution_count": 18,
   "metadata": {
    "collapsed": false
   },
   "outputs": [
    {
     "data": {
      "text/plain": [
       "array([ 0.64649647,  0.80851305,  0.62841868,  0.8547315 ,  0.78024757,\n",
       "        0.73411673,  0.68704182,  0.64944321,  0.47492486], dtype=float32)"
      ]
     },
     "execution_count": 18,
     "metadata": {},
     "output_type": "execute_result"
    }
   ],
   "source": [
    "results"
   ]
  },
  {
   "cell_type": "code",
   "execution_count": null,
   "metadata": {
    "collapsed": true
   },
   "outputs": [],
   "source": []
  }
 ],
 "metadata": {
  "kernelspec": {
   "display_name": "Python 2",
   "language": "python",
   "name": "python2"
  },
  "language_info": {
   "codemirror_mode": {
    "name": "ipython",
    "version": 2
   },
   "file_extension": ".py",
   "mimetype": "text/x-python",
   "name": "python",
   "nbconvert_exporter": "python",
   "pygments_lexer": "ipython2",
   "version": "2.7.13"
  }
 },
 "nbformat": 4,
 "nbformat_minor": 2
}
