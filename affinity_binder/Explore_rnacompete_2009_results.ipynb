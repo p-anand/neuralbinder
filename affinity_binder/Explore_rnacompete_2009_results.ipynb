{
 "cells": [
  {
   "cell_type": "code",
   "execution_count": 1,
   "metadata": {
    "collapsed": true,
    "deletable": true,
    "editable": true
   },
   "outputs": [],
   "source": [
    "from __future__ import absolute_import\n",
    "from __future__ import division\n",
    "from __future__ import print_function\n",
    "\n",
    "import os, sys, h5py\n",
    "import numpy as np\n",
    "from six.moves import cPickle\n",
    "\n",
    "import matplotlib.pyplot as plt\n",
    "%matplotlib inline"
   ]
  },
  {
   "cell_type": "code",
   "execution_count": 6,
   "metadata": {
    "collapsed": false,
    "deletable": true,
    "editable": true
   },
   "outputs": [],
   "source": [
    "\n",
    "# different deep learning models to try out\n",
    "models = ['affinity_conv_net', 'affinity_residual_net']#, 'affinity_all_conv_net']\n",
    "normalize_method = 'log_norm'   # 'clip_norm'\n",
    "ss_types = ['seq', 'pu']#, 'struct']\n",
    "\n",
    "results_path = os.path.join('../../results', 'RNAcompete_2009')"
   ]
  },
  {
   "cell_type": "code",
   "execution_count": 10,
   "metadata": {
    "collapsed": false,
    "deletable": true,
    "editable": true
   },
   "outputs": [
    {
     "name": "stdout",
     "output_type": "stream",
     "text": [
      "seq\n",
      "model: affinity_conv_net\n",
      "0.687732\n",
      "[ 0.73223639  0.8135547   0.59666938  0.81042331  0.75870347  0.68934119\n",
      "  0.69655132  0.64117026  0.45093438]\n",
      "model: affinity_residual_net\n",
      "0.706344\n",
      "[ 0.73448884  0.82105881  0.60114014  0.83480859  0.78183514  0.70160919\n",
      "  0.72224927  0.68633193  0.47357726]\n",
      "pu\n",
      "model: affinity_conv_net\n",
      "0.698523\n",
      "[ 0.73327547  0.82640505  0.60392016  0.82848549  0.76633215  0.69617754\n",
      "  0.71663702  0.65821701  0.45725429]\n",
      "model: affinity_residual_net\n",
      "0.711411\n",
      "[ 0.74084169  0.82782829  0.61489201  0.84697437  0.78028971  0.7028991\n",
      "  0.73031491  0.68793428  0.47072387]\n"
     ]
    }
   ],
   "source": [
    "\n",
    "# get list of rnacompete experiments\n",
    "rbp_names = ['Fusip', 'HuR', 'PTB', 'RBM4', 'SF2', 'SLM2', 'U1A', 'VTS1', 'YB1']\n",
    "\n",
    "# loop over different secondary structure contexts\n",
    "all_results = {}\n",
    "for ss_type in ss_types:\n",
    "    sstype_path = os.path.join(results_path, normalize_method+'_'+ss_type)\n",
    "    print(ss_type)\n",
    "\n",
    "    # loop over different models\n",
    "    for model in models:\n",
    "        print('model: ' + model)\n",
    "        model_path = os.path.join(sstype_path, model)\n",
    "\n",
    "        # save results\n",
    "        with open(os.path.join(model_path, 'test_scores.pickle'), 'rb') as f:\n",
    "            results = cPickle.load(f)\n",
    "        print(np.mean(results))\n",
    "        print(results)"
   ]
  },
  {
   "cell_type": "code",
   "execution_count": 9,
   "metadata": {
    "collapsed": false
   },
   "outputs": [
    {
     "data": {
      "text/plain": [
       "array([ 0.74084169,  0.82782829,  0.61489201,  0.84697437,  0.78028971,\n",
       "        0.7028991 ,  0.73031491,  0.68793428,  0.47072387], dtype=float32)"
      ]
     },
     "execution_count": 9,
     "metadata": {},
     "output_type": "execute_result"
    }
   ],
   "source": [
    "results"
   ]
  },
  {
   "cell_type": "code",
   "execution_count": 19,
   "metadata": {
    "collapsed": false,
    "deletable": true,
    "editable": true
   },
   "outputs": [
    {
     "name": "stdout",
     "output_type": "stream",
     "text": [
      "seq\n",
      "model: affinity_conv_net\n",
      "0.667382\n",
      "model: affinity_residual_net\n",
      "0.677593\n",
      "pu\n",
      "model: affinity_conv_net\n",
      "0.672724\n",
      "model: affinity_residual_net\n",
      "0.682215\n"
     ]
    }
   ],
   "source": [
    "\n",
    "# get list of rnacompete experiments\n",
    "rbp_names = ['Fusip', 'HuR', 'PTB', 'RBM4', 'SF2', 'SLM2', 'U1A', 'VTS1', 'YB1']\n",
    "\n",
    "# loop over different secondary structure contexts\n",
    "all_results = {}\n",
    "for ss_type in ss_types:\n",
    "    sstype_path = os.path.join(results_path, 'mixed_'+normalize_method+'_'+ss_type)\n",
    "    print(ss_type)\n",
    "\n",
    "    # loop over different models\n",
    "    for model in models:\n",
    "        print('model: ' + model)\n",
    "        model_path = os.path.join(sstype_path, model)\n",
    "\n",
    "        # save results\n",
    "        with open(os.path.join(model_path, 'validation_scores.pickle'), 'rb') as f:\n",
    "            results = cPickle.load(f)\n",
    "        print(np.mean(results))\n"
   ]
  },
  {
   "cell_type": "code",
   "execution_count": 18,
   "metadata": {
    "collapsed": false,
    "deletable": true,
    "editable": true
   },
   "outputs": [
    {
     "data": {
      "text/plain": [
       "array([ 0.64649647,  0.80851305,  0.62841868,  0.8547315 ,  0.78024757,\n",
       "        0.73411673,  0.68704182,  0.64944321,  0.47492486], dtype=float32)"
      ]
     },
     "execution_count": 18,
     "metadata": {},
     "output_type": "execute_result"
    }
   ],
   "source": [
    "results"
   ]
  },
  {
   "cell_type": "code",
   "execution_count": null,
   "metadata": {
    "collapsed": true,
    "deletable": true,
    "editable": true
   },
   "outputs": [],
   "source": []
  }
 ],
 "metadata": {
  "kernelspec": {
   "display_name": "Python 2",
   "language": "python",
   "name": "python2"
  },
  "language_info": {
   "codemirror_mode": {
    "name": "ipython",
    "version": 2
   },
   "file_extension": ".py",
   "mimetype": "text/x-python",
   "name": "python",
   "nbconvert_exporter": "python",
   "pygments_lexer": "ipython2",
   "version": "2.7.13"
  }
 },
 "nbformat": 4,
 "nbformat_minor": 2
}
