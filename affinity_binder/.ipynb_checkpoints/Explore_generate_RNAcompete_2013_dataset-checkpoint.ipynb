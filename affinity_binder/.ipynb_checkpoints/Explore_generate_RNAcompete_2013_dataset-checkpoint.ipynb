{
 "cells": [
  {
   "cell_type": "code",
   "execution_count": 28,
   "metadata": {
    "collapsed": false
   },
   "outputs": [],
   "source": [
    "from __future__ import absolute_import\n",
    "from __future__ import division\n",
    "from __future__ import print_function\n",
    "\n",
    "import os, sys, h5py\n",
    "import pandas as pd\n",
    "import numpy as np\n",
    "from six.moves import cPickle\n",
    "np.random.seed(100)\n",
    "\n",
    "sys.path.append('..')\n",
    "import wrangler\n",
    "import helper\n"
   ]
  },
  {
   "cell_type": "code",
   "execution_count": 6,
   "metadata": {
    "collapsed": false
   },
   "outputs": [
    {
     "data": {
      "text/html": [
       "<div>\n",
       "<table border=\"1\" class=\"dataframe\">\n",
       "  <thead>\n",
       "    <tr style=\"text-align: right;\">\n",
       "      <th></th>\n",
       "      <th>Fold ID</th>\n",
       "      <th>Event ID</th>\n",
       "      <th>seq</th>\n",
       "    </tr>\n",
       "  </thead>\n",
       "  <tbody>\n",
       "    <tr>\n",
       "      <th>0</th>\n",
       "      <td>A</td>\n",
       "      <td>RBD_v3_000001</td>\n",
       "      <td>AGAAGGCACCAACAGAAGCUCUAACCAGACUAGCCACC</td>\n",
       "    </tr>\n",
       "    <tr>\n",
       "      <th>1</th>\n",
       "      <td>A</td>\n",
       "      <td>RBD_v3_000002</td>\n",
       "      <td>AGAGGUCGAGUAUUAGUGAUAUUAGAGUGAGGUCCAUC</td>\n",
       "    </tr>\n",
       "    <tr>\n",
       "      <th>2</th>\n",
       "      <td>A</td>\n",
       "      <td>RBD_v3_000003</td>\n",
       "      <td>AGAGAUGACUAUGCAUGCGAUGCUACGCUGAUCCCUGG</td>\n",
       "    </tr>\n",
       "    <tr>\n",
       "      <th>3</th>\n",
       "      <td>A</td>\n",
       "      <td>RBD_v3_000004</td>\n",
       "      <td>AGAGGUCGGGAGGUAUGAAACGCAGAAGAGGCAAC</td>\n",
       "    </tr>\n",
       "    <tr>\n",
       "      <th>4</th>\n",
       "      <td>A</td>\n",
       "      <td>RBD_v3_000005</td>\n",
       "      <td>AGAAAUCCCAGCCUGUCUAUGCUUGUGUGACUGUGAGC</td>\n",
       "    </tr>\n",
       "  </tbody>\n",
       "</table>\n",
       "</div>"
      ],
      "text/plain": [
       "  Fold ID       Event ID                                     seq\n",
       "0       A  RBD_v3_000001  AGAAGGCACCAACAGAAGCUCUAACCAGACUAGCCACC\n",
       "1       A  RBD_v3_000002  AGAGGUCGAGUAUUAGUGAUAUUAGAGUGAGGUCCAUC\n",
       "2       A  RBD_v3_000003  AGAGAUGACUAUGCAUGCGAUGCUACGCUGAUCCCUGG\n",
       "3       A  RBD_v3_000004     AGAGGUCGGGAGGUAUGAAACGCAGAAGAGGCAAC\n",
       "4       A  RBD_v3_000005  AGAAAUCCCAGCCUGUCUAUGCUUGUGUGACUGUGAGC"
      ]
     },
     "execution_count": 6,
     "metadata": {},
     "output_type": "execute_result"
    }
   ],
   "source": [
    "df.head()"
   ]
  },
  {
   "cell_type": "code",
   "execution_count": 2,
   "metadata": {
    "collapsed": false
   },
   "outputs": [
    {
     "name": "stderr",
     "output_type": "stream",
     "text": [
      "/home/peter/anaconda2/lib/python2.7/site-packages/IPython/core/interactiveshell.py:2717: DtypeWarning: Columns (0,1,2,3,4,6,7,8,9,10,11,13,14,16,17,19,23,24,25,26,27,30,31,32,33,34,35,37,39,40,41,42,45,46,47,92,93,94,96,97,98,99,100,101,103,104,105,106,107,108,110,111,112,113,114,115,116,118,119,120,121,122,123,124,125,127,128,129,130,131,132,134,135,136,137,138,139,140,141,142,144,145,146,147,148,149,152,153,154,155,159,160,161,162,163,164,165,166,167,168,169,172,179,180,181,187,192,193,200,208,211,212,221,223,224,227,232,235,238,239,240) have mixed types. Specify dtype option on import or set low_memory=False.\n",
      "  interactivity=interactivity, compiler=compiler, result=result)\n"
     ]
    }
   ],
   "source": [
    "data_path = '../../data/RNAcompete_2013'\n",
    "\n",
    "# load binding affinities for each rnacompete experiment\n",
    "df = pd.read_csv(os.path.join(data_path,'targets.tsv'), sep='\\t')\n",
    "names = list(df.columns.values)\n",
    "targets = df.as_matrix().astype(np.float32)\n",
    "\n",
    "# load sequences\n",
    "df = pd.read_csv(os.path.join(data_path,'sequences.tsv'), sep='\\t')\n",
    "experiment = df['Fold ID'].as_matrix()\n",
    "sequences = df['seq'].as_matrix()"
   ]
  },
  {
   "cell_type": "code",
   "execution_count": 4,
   "metadata": {
    "collapsed": false
   },
   "outputs": [],
   "source": [
    "one_hot = wrangler.munge.convert_one_hot(sequences, 41)"
   ]
  },
  {
   "cell_type": "code",
   "execution_count": null,
   "metadata": {
    "collapsed": false
   },
   "outputs": [],
   "source": [
    "fasta_path = os.path.join(data_path,'sequences.fa')\n",
    "wrangler.fasta.generate_fasta(sequences, fasta_path)"
   ]
  },
  {
   "cell_type": "code",
   "execution_count": null,
   "metadata": {
    "collapsed": false
   },
   "outputs": [],
   "source": [
    "profile_path = os.path.join(data_path,'rnaplfold')\n",
    "structure = wrangler.structure.RNAplfold_profile(fasta_path, profile_path, window=41)"
   ]
  },
  {
   "cell_type": "code",
   "execution_count": null,
   "metadata": {
    "collapsed": true
   },
   "outputs": [],
   "source": [
    "data = np.vstack([one_hot, structure])"
   ]
  },
  {
   "cell_type": "code",
   "execution_count": null,
   "metadata": {
    "collapsed": true
   },
   "outputs": [],
   "source": [
    "train, valid, test = helper.split_rnacompete_dataset(one_hot, targets, experiment, valid_frac=0.1)"
   ]
  },
  {
   "cell_type": "code",
   "execution_count": 15,
   "metadata": {
    "collapsed": false
   },
   "outputs": [
    {
     "ename": "KeyboardInterrupt",
     "evalue": "",
     "output_type": "error",
     "traceback": [
      "\u001b[0;31m---------------------------------------------------------------------------\u001b[0m",
      "\u001b[0;31mKeyboardInterrupt\u001b[0m                         Traceback (most recent call last)",
      "\u001b[0;32m<ipython-input-15-29e1b125c17c>\u001b[0m in \u001b[0;36m<module>\u001b[0;34m()\u001b[0m\n\u001b[1;32m     12\u001b[0m \u001b[0;34m\u001b[0m\u001b[0m\n\u001b[1;32m     13\u001b[0m \u001b[0msave_path\u001b[0m \u001b[0;34m=\u001b[0m \u001b[0mos\u001b[0m\u001b[0;34m.\u001b[0m\u001b[0mpath\u001b[0m\u001b[0;34m.\u001b[0m\u001b[0mjoin\u001b[0m\u001b[0;34m(\u001b[0m\u001b[0mdata_path\u001b[0m\u001b[0;34m,\u001b[0m \u001b[0;34m'rnacompete2013.h5'\u001b[0m\u001b[0;34m)\u001b[0m\u001b[0;34m\u001b[0m\u001b[0m\n\u001b[0;32m---> 14\u001b[0;31m \u001b[0msave_rnacompete_dataset\u001b[0m\u001b[0;34m(\u001b[0m\u001b[0msave_path\u001b[0m\u001b[0;34m,\u001b[0m \u001b[0mtrain\u001b[0m\u001b[0;34m,\u001b[0m \u001b[0mvalid\u001b[0m\u001b[0;34m,\u001b[0m \u001b[0mtest\u001b[0m\u001b[0;34m,\u001b[0m \u001b[0mnames\u001b[0m\u001b[0;34m)\u001b[0m\u001b[0;34m\u001b[0m\u001b[0m\n\u001b[0m",
      "\u001b[0;32m<ipython-input-15-29e1b125c17c>\u001b[0m in \u001b[0;36msave_rnacompete_dataset\u001b[0;34m(save_path, train, valid, test, names)\u001b[0m\n\u001b[1;32m      9\u001b[0m             \u001b[0mdset\u001b[0m \u001b[0;34m=\u001b[0m \u001b[0mgrp\u001b[0m\u001b[0;34m.\u001b[0m\u001b[0mcreate_dataset\u001b[0m\u001b[0;34m(\u001b[0m\u001b[0;34m\"Y_valid\"\u001b[0m\u001b[0;34m,\u001b[0m \u001b[0mdata\u001b[0m\u001b[0;34m=\u001b[0m\u001b[0mvalid\u001b[0m\u001b[0;34m[\u001b[0m\u001b[0;36m1\u001b[0m\u001b[0;34m]\u001b[0m\u001b[0;34m.\u001b[0m\u001b[0mastype\u001b[0m\u001b[0;34m(\u001b[0m\u001b[0mnp\u001b[0m\u001b[0;34m.\u001b[0m\u001b[0mfloat32\u001b[0m\u001b[0;34m)\u001b[0m\u001b[0;34m,\u001b[0m \u001b[0mcompression\u001b[0m\u001b[0;34m=\u001b[0m\u001b[0;34m\"gzip\"\u001b[0m\u001b[0;34m)\u001b[0m\u001b[0;34m\u001b[0m\u001b[0m\n\u001b[1;32m     10\u001b[0m             \u001b[0mdset\u001b[0m \u001b[0;34m=\u001b[0m \u001b[0mgrp\u001b[0m\u001b[0;34m.\u001b[0m\u001b[0mcreate_dataset\u001b[0m\u001b[0;34m(\u001b[0m\u001b[0;34m\"X_test\"\u001b[0m\u001b[0;34m,\u001b[0m \u001b[0mdata\u001b[0m\u001b[0;34m=\u001b[0m\u001b[0mtest\u001b[0m\u001b[0;34m[\u001b[0m\u001b[0;36m0\u001b[0m\u001b[0;34m]\u001b[0m\u001b[0;34m.\u001b[0m\u001b[0mastype\u001b[0m\u001b[0;34m(\u001b[0m\u001b[0mnp\u001b[0m\u001b[0;34m.\u001b[0m\u001b[0mfloat32\u001b[0m\u001b[0;34m)\u001b[0m\u001b[0;34m,\u001b[0m \u001b[0mcompression\u001b[0m\u001b[0;34m=\u001b[0m\u001b[0;34m\"gzip\"\u001b[0m\u001b[0;34m)\u001b[0m\u001b[0;34m\u001b[0m\u001b[0m\n\u001b[0;32m---> 11\u001b[0;31m             \u001b[0mdset\u001b[0m \u001b[0;34m=\u001b[0m \u001b[0mgrp\u001b[0m\u001b[0;34m.\u001b[0m\u001b[0mcreate_dataset\u001b[0m\u001b[0;34m(\u001b[0m\u001b[0;34m\"Y_test\"\u001b[0m\u001b[0;34m,\u001b[0m \u001b[0mdata\u001b[0m\u001b[0;34m=\u001b[0m\u001b[0mtest\u001b[0m\u001b[0;34m[\u001b[0m\u001b[0;36m1\u001b[0m\u001b[0;34m]\u001b[0m\u001b[0;34m.\u001b[0m\u001b[0mastype\u001b[0m\u001b[0;34m(\u001b[0m\u001b[0mnp\u001b[0m\u001b[0;34m.\u001b[0m\u001b[0mfloat32\u001b[0m\u001b[0;34m)\u001b[0m\u001b[0;34m,\u001b[0m \u001b[0mcompression\u001b[0m\u001b[0;34m=\u001b[0m\u001b[0;34m\"gzip\"\u001b[0m\u001b[0;34m)\u001b[0m\u001b[0;34m\u001b[0m\u001b[0m\n\u001b[0m\u001b[1;32m     12\u001b[0m \u001b[0;34m\u001b[0m\u001b[0m\n\u001b[1;32m     13\u001b[0m \u001b[0msave_path\u001b[0m \u001b[0;34m=\u001b[0m \u001b[0mos\u001b[0m\u001b[0;34m.\u001b[0m\u001b[0mpath\u001b[0m\u001b[0;34m.\u001b[0m\u001b[0mjoin\u001b[0m\u001b[0;34m(\u001b[0m\u001b[0mdata_path\u001b[0m\u001b[0;34m,\u001b[0m \u001b[0;34m'rnacompete2013.h5'\u001b[0m\u001b[0;34m)\u001b[0m\u001b[0;34m\u001b[0m\u001b[0m\n",
      "\u001b[0;32m/home/peter/anaconda2/lib/python2.7/site-packages/h5py/_hl/group.pyc\u001b[0m in \u001b[0;36mcreate_dataset\u001b[0;34m(self, name, shape, dtype, data, **kwds)\u001b[0m\n\u001b[1;32m    103\u001b[0m         \"\"\"\n\u001b[1;32m    104\u001b[0m         \u001b[0;32mwith\u001b[0m \u001b[0mphil\u001b[0m\u001b[0;34m:\u001b[0m\u001b[0;34m\u001b[0m\u001b[0m\n\u001b[0;32m--> 105\u001b[0;31m             \u001b[0mdsid\u001b[0m \u001b[0;34m=\u001b[0m \u001b[0mdataset\u001b[0m\u001b[0;34m.\u001b[0m\u001b[0mmake_new_dset\u001b[0m\u001b[0;34m(\u001b[0m\u001b[0mself\u001b[0m\u001b[0;34m,\u001b[0m \u001b[0mshape\u001b[0m\u001b[0;34m,\u001b[0m \u001b[0mdtype\u001b[0m\u001b[0;34m,\u001b[0m \u001b[0mdata\u001b[0m\u001b[0;34m,\u001b[0m \u001b[0;34m**\u001b[0m\u001b[0mkwds\u001b[0m\u001b[0;34m)\u001b[0m\u001b[0;34m\u001b[0m\u001b[0m\n\u001b[0m\u001b[1;32m    106\u001b[0m             \u001b[0mdset\u001b[0m \u001b[0;34m=\u001b[0m \u001b[0mdataset\u001b[0m\u001b[0;34m.\u001b[0m\u001b[0mDataset\u001b[0m\u001b[0;34m(\u001b[0m\u001b[0mdsid\u001b[0m\u001b[0;34m)\u001b[0m\u001b[0;34m\u001b[0m\u001b[0m\n\u001b[1;32m    107\u001b[0m             \u001b[0;32mif\u001b[0m \u001b[0mname\u001b[0m \u001b[0;32mis\u001b[0m \u001b[0;32mnot\u001b[0m \u001b[0mNone\u001b[0m\u001b[0;34m:\u001b[0m\u001b[0;34m\u001b[0m\u001b[0m\n",
      "\u001b[0;32m/home/peter/anaconda2/lib/python2.7/site-packages/h5py/_hl/dataset.pyc\u001b[0m in \u001b[0;36mmake_new_dset\u001b[0;34m(parent, shape, dtype, data, chunks, compression, shuffle, fletcher32, maxshape, compression_opts, fillvalue, scaleoffset, track_times)\u001b[0m\n\u001b[1;32m    130\u001b[0m \u001b[0;34m\u001b[0m\u001b[0m\n\u001b[1;32m    131\u001b[0m     \u001b[0;32mif\u001b[0m \u001b[0mdata\u001b[0m \u001b[0;32mis\u001b[0m \u001b[0;32mnot\u001b[0m \u001b[0mNone\u001b[0m\u001b[0;34m:\u001b[0m\u001b[0;34m\u001b[0m\u001b[0m\n\u001b[0;32m--> 132\u001b[0;31m         \u001b[0mdset_id\u001b[0m\u001b[0;34m.\u001b[0m\u001b[0mwrite\u001b[0m\u001b[0;34m(\u001b[0m\u001b[0mh5s\u001b[0m\u001b[0;34m.\u001b[0m\u001b[0mALL\u001b[0m\u001b[0;34m,\u001b[0m \u001b[0mh5s\u001b[0m\u001b[0;34m.\u001b[0m\u001b[0mALL\u001b[0m\u001b[0;34m,\u001b[0m \u001b[0mdata\u001b[0m\u001b[0;34m)\u001b[0m\u001b[0;34m\u001b[0m\u001b[0m\n\u001b[0m\u001b[1;32m    133\u001b[0m \u001b[0;34m\u001b[0m\u001b[0m\n\u001b[1;32m    134\u001b[0m     \u001b[0;32mreturn\u001b[0m \u001b[0mdset_id\u001b[0m\u001b[0;34m\u001b[0m\u001b[0m\n",
      "\u001b[0;31mKeyboardInterrupt\u001b[0m: "
     ]
    }
   ],
   "source": [
    "def save_rnacompete_dataset(save_path, train, valid, test, names):\n",
    "    # save datasets as hdf5 file\n",
    "    with h5py.File(save_path, \"w\") as f:\n",
    "        for name in names:\n",
    "            grp = f.create_group(name)\n",
    "            dset = grp.create_dataset(\"X_train\", data=train[0].astype(np.float32), compression=\"gzip\")\n",
    "            dset = grp.create_dataset(\"Y_train\", data=train[1].astype(np.float32), compression=\"gzip\")\n",
    "            dset = grp.create_dataset(\"X_valid\", data=valid[0].astype(np.float32), compression=\"gzip\")\n",
    "            dset = grp.create_dataset(\"Y_valid\", data=valid[1].astype(np.float32), compression=\"gzip\")\n",
    "            dset = grp.create_dataset(\"X_test\", data=test[0].astype(np.float32), compression=\"gzip\")\n",
    "            dset = grp.create_dataset(\"Y_test\", data=test[1].astype(np.float32), compression=\"gzip\")\n",
    "\n",
    "save_path = os.path.join(data_path, 'rnacompete2013.h5')\n",
    "save_rnacompete_dataset(save_path, train, valid, test, names)"
   ]
  },
  {
   "cell_type": "code",
   "execution_count": 21,
   "metadata": {
    "collapsed": false
   },
   "outputs": [
    {
     "data": {
      "text/plain": [
       "38"
      ]
     },
     "execution_count": 21,
     "metadata": {},
     "output_type": "execute_result"
    }
   ],
   "source": [
    "len('AGAGTCTGCCGATTGCTGGAATCACAAATATGTGCTTA')"
   ]
  },
  {
   "cell_type": "code",
   "execution_count": 29,
   "metadata": {
    "collapsed": true
   },
   "outputs": [],
   "source": [
    "rbp_names = ['Fusip', 'HuR', 'PTB', 'RBM4', 'SF2', 'SLM2', 'U1A', 'VTS1', 'YB1']\n",
    "data_path = '../../data/RNAcompete_2009'\n"
   ]
  },
  {
   "cell_type": "code",
   "execution_count": 30,
   "metadata": {
    "collapsed": false
   },
   "outputs": [],
   "source": [
    "rbp_name = rbp_names[0]\n",
    "df = pd.read_csv(os.path.join(data_path,rbp_name+'_data_full_A.txt'), sep='\\t', header=None)\n",
    "targets_A = df[0].as_matrix()\n",
    "sequences_A = df[1].as_matrix()\n",
    "\n",
    "# get the maximum length sequence\n",
    "max_length = 0\n",
    "for seq in sequences_A:\n",
    "    max_length = np.maximum(max_length, len(seq))\n",
    "    \n",
    "# convert sequences into one-hot representation\n",
    "one_hot_A = wrangler.munge.convert_one_hot(sequences_A, max_length)\n"
   ]
  },
  {
   "cell_type": "code",
   "execution_count": 39,
   "metadata": {
    "collapsed": false
   },
   "outputs": [
    {
     "data": {
      "text/plain": [
       "array(['A', 'A', 'A', 'A', 'A', 'A', 'A', 'A', 'A', 'A', 'A', 'A', 'A',\n",
       "       'A', 'A', 'A', 'A', 'A', 'A', 'A', 'A', 'A', 'A', 'A', 'A', 'A',\n",
       "       'A', 'A', 'A', 'A', 'A', 'A', 'A', 'A', 'A', 'A', 'A', 'A', 'A',\n",
       "       'A', 'A', 'A', 'A', 'A', 'A', 'A', 'A', 'A', 'A', 'A', 'A', 'A',\n",
       "       'A', 'A', 'A', 'A', 'A', 'A', 'A', 'A', 'A', 'A', 'A', 'A', 'A',\n",
       "       'A', 'A', 'A', 'A', 'A', 'A', 'A', 'A', 'A', 'A', 'A', 'A', 'A',\n",
       "       'A', 'A', 'A', 'A', 'A', 'A', 'A', 'A', 'A', 'A', 'A', 'A', 'A',\n",
       "       'A', 'A', 'A', 'A', 'A', 'A', 'A', 'A', 'A'], \n",
       "      dtype='|S1')"
      ]
     },
     "execution_count": 39,
     "metadata": {},
     "output_type": "execute_result"
    }
   ],
   "source": [
    "np.tile('A',(100))"
   ]
  },
  {
   "cell_type": "code",
   "execution_count": 42,
   "metadata": {
    "collapsed": false
   },
   "outputs": [],
   "source": [
    "\n"
   ]
  },
  {
   "cell_type": "code",
   "execution_count": 43,
   "metadata": {
    "collapsed": false,
    "scrolled": true
   },
   "outputs": [
    {
     "data": {
      "text/plain": [
       "array(['A', 'A', 'A', ..., 'B', 'B', 'B'], \n",
       "      dtype='|S1')"
      ]
     },
     "execution_count": 43,
     "metadata": {},
     "output_type": "execute_result"
    }
   ],
   "source": [
    "experiment"
   ]
  },
  {
   "cell_type": "code",
   "execution_count": 6,
   "metadata": {
    "collapsed": false
   },
   "outputs": [],
   "source": [
    "rbp_names = ['Fusip', 'HuR', 'PTB', 'RBM4', 'SF2', 'SLM2', 'U1A', 'VTS1', 'YB1']\n",
    "data_path = '../../data/RNAcompete_2009'\n",
    "\n",
    "# save datasets as hdf5 file\n",
    "with h5py.File(save_path, \"w\") as f:\n",
    "    for rbp_name in rbp_names:\n",
    "        df = pd.read_csv(os.path.join(data_path,rbp_name+'_data_full_A.txt'), sep='\\t', header=None)\n",
    "        targets_A = df[0].as_matrix()\n",
    "        sequences_A = df[1].as_matrix()\n",
    "\n",
    "        # get the maximum length sequence\n",
    "        max_length = 0\n",
    "        for seq in sequences_A:\n",
    "            max_length = np.maximum(max_length, len(seq))\n",
    "\n",
    "        # convert sequences into one-hot representation\n",
    "        one_hot_A = wrangler.munge.convert_one_hot(sequences_A, max_length)\n",
    "\n",
    "        # save sequences in a fasta format (for rnaplfold)\n",
    "        fasta_path = os.path.join(data_path, rbp_name+'_sequences_A.fa')\n",
    "        wrangler.fasta.generate_fasta(sequences_A, fasta_path)\n",
    "\n",
    "        # generate secondary structure profiles with rnaplfold\n",
    "        profile_path = os.path.join(data_path, rbp_name+'_rnaplfold_A')\n",
    "        structure_A = wrangler.structure.RNAplfold_profile(fasta_path, profile_path, window=41)\n",
    "\n",
    "        # merge sequences and structural profiles\n",
    "        data_A = np.vstack([one_hot_A, structure_A])\n",
    "\n",
    "\n",
    "        df = pd.read_csv(os.path.join(data_path,rbp_name+'_data_full_B.txt'), sep='\\t', header=None)\n",
    "        targets_B = df[0].as_matrix()\n",
    "        sequences_B = df[1].as_matrix()\n",
    "\n",
    "        # convert sequences into one-hot representation\n",
    "        one_hot_B = wrangler.munge.convert_one_hot(sequences_B, max_length)\n",
    "\n",
    "        # save sequences in a fasta format (for rnaplfold)\n",
    "        fasta_path = os.path.join(data_path, rbp_name+'_sequences_B.fa')\n",
    "        wrangler.fasta.generate_fasta(sequences_B, fasta_path)\n",
    "\n",
    "        # generate secondary structure profiles with rnaplfold\n",
    "        profile_path = os.path.join(data_path, rbp_name+'_rnaplfold_B')\n",
    "        structure_B = wrangler.structure.RNAplfold_profile(fasta_path, profile_path, window=41)\n",
    "\n",
    "        # merge sequences and structural profiles\n",
    "        data_B = np.vstack([one_hot_B, structure_B])\n",
    "\n",
    "        experiment = np.concatenate([np.tile('A',len(one_hot_A)), np.tile('B',len(one_hot_A))])\n",
    "\n",
    "        # split dataset into train, cross-validation, and test set\n",
    "        data = np.vstack([data_A, data_B])\n",
    "        targets = np.vstack([targets_A, targets_B])\n",
    "        train, valid, test = helper.split_rnacompete_dataset(data, targets, experiment, valid_frac=0.1)\n",
    "\n",
    "        grp = f.create_group(rbp_name)\n",
    "        dset = grp.create_dataset(\"X_train\", data=train[0].astype(np.float32), compression=\"gzip\")\n",
    "        dset = grp.create_dataset(\"Y_train\", data=train[1].astype(np.float32), compression=\"gzip\")\n",
    "        dset = grp.create_dataset(\"X_valid\", data=valid[0].astype(np.float32), compression=\"gzip\")\n",
    "        dset = grp.create_dataset(\"Y_valid\", data=valid[1].astype(np.float32), compression=\"gzip\")\n",
    "        dset = grp.create_dataset(\"X_test\", data=test[0].astype(np.float32), compression=\"gzip\")\n",
    "        dset = grp.create_dataset(\"Y_test\", data=test[1].astype(np.float32), compression=\"gzip\")\n"
   ]
  },
  {
   "cell_type": "code",
   "execution_count": 7,
   "metadata": {
    "collapsed": false
   },
   "outputs": [
    {
     "data": {
      "text/html": [
       "<div>\n",
       "<table border=\"1\" class=\"dataframe\">\n",
       "  <thead>\n",
       "    <tr style=\"text-align: right;\">\n",
       "      <th></th>\n",
       "      <th>0</th>\n",
       "      <th>1</th>\n",
       "    </tr>\n",
       "  </thead>\n",
       "  <tbody>\n",
       "    <tr>\n",
       "      <th>0</th>\n",
       "      <td>0.37</td>\n",
       "      <td>AGAGGCAGGACTGGCTATGTCGGTCCTGTC</td>\n",
       "    </tr>\n",
       "    <tr>\n",
       "      <th>1</th>\n",
       "      <td>0.80</td>\n",
       "      <td>AGGGGCAACGTTGGCTCAGCCAGCGTTGTC</td>\n",
       "    </tr>\n",
       "    <tr>\n",
       "      <th>2</th>\n",
       "      <td>0.38</td>\n",
       "      <td>AGAGTCTCGGCGGGCTCGGTCTGCTGAGAC</td>\n",
       "    </tr>\n",
       "    <tr>\n",
       "      <th>3</th>\n",
       "      <td>0.29</td>\n",
       "      <td>AGAGGGCTATTTGGCTCTGTCAGATAGCCC</td>\n",
       "    </tr>\n",
       "    <tr>\n",
       "      <th>4</th>\n",
       "      <td>0.05</td>\n",
       "      <td>AGAGTCCTTGTTGGCTGGGCCAACGAGGGC</td>\n",
       "    </tr>\n",
       "  </tbody>\n",
       "</table>\n",
       "</div>"
      ],
      "text/plain": [
       "      0                               1\n",
       "0  0.37  AGAGGCAGGACTGGCTATGTCGGTCCTGTC\n",
       "1  0.80  AGGGGCAACGTTGGCTCAGCCAGCGTTGTC\n",
       "2  0.38  AGAGTCTCGGCGGGCTCGGTCTGCTGAGAC\n",
       "3  0.29  AGAGGGCTATTTGGCTCTGTCAGATAGCCC\n",
       "4  0.05  AGAGTCCTTGTTGGCTGGGCCAACGAGGGC"
      ]
     },
     "execution_count": 7,
     "metadata": {},
     "output_type": "execute_result"
    }
   ],
   "source": [
    "\n",
    "\n"
   ]
  },
  {
   "cell_type": "code",
   "execution_count": null,
   "metadata": {
    "collapsed": true
   },
   "outputs": [],
   "source": [
    "# save dataset\n",
    "save_path = os.path.join(data_path, 'rnacompete2009.h5')\n",
    "print('saving dataset: ', save_path)\n",
    "helper.save_rnacompete_dataset(save_path, train, valid, test, names)\n",
    "\n"
   ]
  }
 ],
 "metadata": {
  "anaconda-cloud": {},
  "kernelspec": {
   "display_name": "Python 2",
   "language": "python",
   "name": "python2"
  },
  "language_info": {
   "codemirror_mode": {
    "name": "ipython",
    "version": 2
   },
   "file_extension": ".py",
   "mimetype": "text/x-python",
   "name": "python",
   "nbconvert_exporter": "python",
   "pygments_lexer": "ipython2",
   "version": "2.7.12"
  }
 },
 "nbformat": 4,
 "nbformat_minor": 2
}
