{
 "cells": [
  {
   "cell_type": "code",
   "execution_count": 3,
   "metadata": {
    "collapsed": true
   },
   "outputs": [],
   "source": [
    "from __future__ import absolute_import\n",
    "from __future__ import division\n",
    "from __future__ import print_function\n",
    "\n",
    "import os, sys, h5py\n",
    "import numpy as np\n",
    "from six.moves import cPickle\n",
    "\n",
    "import matplotlib.pyplot as plt\n",
    "%matplotlib inline"
   ]
  },
  {
   "cell_type": "code",
   "execution_count": 10,
   "metadata": {
    "collapsed": false
   },
   "outputs": [
    {
     "name": "stdout",
     "output_type": "stream",
     "text": [
      "seq-affinity_conv_net: 0.65876\n",
      "seq-affinity_residual_net: 0.731942\n",
      "seq-affinity_all_conv_net: 0.701109\n",
      "pu-affinity_conv_net: 0.66218\n",
      "pu-affinity_residual_net: 0.732036\n",
      "pu-affinity_all_conv_net: 0.702167\n"
     ]
    }
   ],
   "source": [
    "\n",
    "# different deep learning models to try out\n",
    "models = ['affinity_conv_net', 'affinity_residual_net', 'affinity_all_conv_net']\n",
    "normalize_method = 'log_norm'   # 'clip_norm' 'log_norm'\n",
    "ss_types = ['seq', 'pu']#, 'struct']\n",
    "\n",
    "#data_path = '../../data/RNAcompete_2013/rnacompete2013.h5'\n",
    "#experiments = helper.get_experiments_hdf5(data_path)\n",
    "\n",
    "results_path = os.path.join('../../results', 'RNAcompete_2013')\n",
    "\n",
    "for ss_type in ss_types:\n",
    "    for model in models:\n",
    "        sstype_path = os.path.join(results_path, normalize_method+'_'+ss_type)\n",
    "        model_path = os.path.join(sstype_path, model)\n",
    "        # save results\n",
    "        with open(os.path.join(model_path, 'validation_scores.pickle'), 'rb') as f:\n",
    "            results = cPickle.load(f)\n",
    "            \n",
    "        print(ss_type+'-'+model+': '+str(np.mean(results)))\n"
   ]
  },
  {
   "cell_type": "code",
   "execution_count": 9,
   "metadata": {
    "collapsed": false
   },
   "outputs": [
    {
     "name": "stdout",
     "output_type": "stream",
     "text": [
      "seq-affinity_conv_net: 0.637218\n",
      "seq-affinity_residual_net: 0.666056\n",
      "seq-affinity_all_conv_net: 0.648031\n",
      "pu-affinity_conv_net: 0.637973\n",
      "pu-affinity_residual_net: 0.667427\n",
      "pu-affinity_all_conv_net: 0.649306\n"
     ]
    }
   ],
   "source": [
    "\n",
    "# different deep learning models to try out\n",
    "models = ['affinity_conv_net', 'affinity_residual_net', 'affinity_all_conv_net']\n",
    "normalize_method = 'log_norm'   # 'clip_norm' 'log_norm'\n",
    "ss_types = ['seq', 'pu']#, 'struct']\n",
    "\n",
    "#data_path = '../../data/RNAcompete_2013/rnacompete2013.h5'\n",
    "#experiments = helper.get_experiments_hdf5(data_path)\n",
    "\n",
    "results_path = os.path.join('../../results', 'RNAcompete_2013')\n",
    "\n",
    "for ss_type in ss_types:\n",
    "    for model in models:\n",
    "        sstype_path = os.path.join(results_path, normalize_method+'_'+ss_type)\n",
    "        model_path = os.path.join(sstype_path, model)\n",
    "        # save results\n",
    "        with open(os.path.join(model_path, 'test_scores.pickle'), 'rb') as f:\n",
    "            results = cPickle.load(f)\n",
    "            \n",
    "        print(ss_type+'-'+model+': '+str(np.mean(results)))\n"
   ]
  },
  {
   "cell_type": "code",
   "execution_count": 7,
   "metadata": {
    "collapsed": false
   },
   "outputs": [
    {
     "data": {
      "text/plain": [
       "array([ 0.77852231,  0.73844343,  0.01891963,  0.41520885,  0.38744354,\n",
       "        0.15173845,  0.80076611,  0.85077554,  0.85309434,  0.85250276,\n",
       "        0.67554826,  0.49248141,  0.21216232,  0.66548002,  0.72691208,\n",
       "        0.7466554 ,  0.75659984,  0.78971702,  0.23436995,  0.20457567,\n",
       "        0.4214462 ,  0.61885619,  0.50886732,  0.6613546 ,  0.78372729,\n",
       "        0.79180807,  0.61125851,  0.43175554,  0.67667651,  0.41376403,\n",
       "        0.36313772,  0.70018232,  0.80599695,  0.88724196,  0.72898525,\n",
       "        0.6481604 ,  0.61707896,  0.76150835,  0.48094302,  0.4864178 ,\n",
       "        0.83096576,  0.35365936,  0.59994364,  0.4782967 ,  0.57994151,\n",
       "        0.72636187,  0.69394755,  0.49911743,  0.65141964,  0.84303623,\n",
       "        0.4508107 ,  0.70413703,  0.66735041,  0.43005681,  0.22099376,\n",
       "        0.51515573,  0.79802293,  0.65370268,  0.82128555,  0.39441472,\n",
       "        0.5013274 ,  0.83480763,  0.63738769,  0.58693415,  0.26613376,\n",
       "        0.71913195,  0.80009484,  0.77595645,  0.71718758,  0.79192871,\n",
       "        0.80364233,  0.7496888 ,  0.57080704,  0.7918095 ,  0.59115559,\n",
       "        0.79050624,  0.66430193,  0.74928278,  0.86129475,  0.62685663,\n",
       "        0.79145724,  0.85686344,  0.67464852,  0.78146911,  0.65874916,\n",
       "        0.57464224,  0.83539903,  0.77088904,  0.48228696,  0.42754251,\n",
       "        0.47881517,  0.61303693,  0.82146871,  0.69449919,  0.74623531,\n",
       "        0.77520871,  0.23456612,  0.72833002,  0.28012398,  0.84010661,\n",
       "        0.7910164 ,  0.77098966,  0.42654231,  0.76436138,  0.82588494,\n",
       "        0.716838  ,  0.80915713,  0.43032649,  0.8219043 ,  0.64489818,\n",
       "        0.53790438,  0.7023285 ,  0.68674183,  0.60516465,  0.78358215,\n",
       "        0.2971817 ,  0.81116724,  0.8430137 ,  0.72098011,  0.79353452,\n",
       "        0.69136459,  0.55248326,  0.70719153,  0.64896035,  0.89974445,\n",
       "        0.63556153,  0.84525466,  0.72706503,  0.78016579,  0.76009703,\n",
       "        0.8651287 ,  0.79351145,  0.76038361,  0.73441708,  0.27944261,\n",
       "        0.70430005,  0.70891857,  0.69750029,  0.79815257,  0.81048495,\n",
       "        0.85834217,  0.8196516 ,  0.72788072,  0.7306729 ,  0.77945429,\n",
       "        0.70207554,  0.85213   ,  0.76169652,  0.84096938,  0.85242283,\n",
       "        0.6432786 ,  0.30439124,  0.73068166,  0.10450567,  0.75289613,\n",
       "        0.56572372,  0.68785053,  0.81055856,  0.42258111,  0.62686557,\n",
       "        0.65602911,  0.77561069,  0.66921628,  0.78587741,  0.46183088,\n",
       "        0.71834826,  0.66624147,  0.7749669 ,  0.74601895,  0.73173308,\n",
       "        0.8051337 ,  0.72710687,  0.79526812,  0.78700179,  0.70416343,\n",
       "        0.39135146,  0.7808156 ,  0.7702949 ,  0.43622378,  0.34949866,\n",
       "        0.75550789,  0.76877797,  0.78707832,  0.17325948,  0.84917819,\n",
       "        0.16177072,  0.63221455,  0.52790558,  0.01330902,  0.76206481,\n",
       "        0.82219732,  0.76428938,  0.2518    ,  0.81290197,  0.76764745,\n",
       "        0.7077775 ,  0.69358385,  0.45788199,  0.71038234,  0.69861549,\n",
       "        0.66007346,  0.82075948,  0.5388726 ,  0.62240463,  0.7575869 ,\n",
       "        0.29512051,  0.52709734,  0.21242806,  0.88293344,  0.50136811,\n",
       "        0.79161912,  0.79598761,  0.78096455,  0.60599041,  0.80876356,\n",
       "        0.79942757,  0.71714985,  0.48461103,  0.81514674,  0.78234285,\n",
       "        0.82561362,  0.68847674,  0.68024075,  0.72551388,  0.46344182,\n",
       "        0.82077098,  0.26269609,  0.74643344,  0.48030162,  0.49437943,\n",
       "        0.30404761,  0.80584651,  0.73212248,  0.49694079,  0.71632421,\n",
       "        0.40299532,  0.73480099,  0.69099271,  0.70109898,  0.80785483,\n",
       "        0.70741665,  0.770109  ,  0.77830982,  0.42397937], dtype=float32)"
      ]
     },
     "execution_count": 7,
     "metadata": {},
     "output_type": "execute_result"
    }
   ],
   "source": [
    "\n",
    "# different deep learning models to try out\n",
    "models = ['affinity_conv_net', 'affinity_residual_net', 'affinity_all_conv_net']\n",
    "normalize_method = 'clip_norm'   # 'clip_norm' 'log_norm'\n",
    "ss_types = ['seq']#, 'pu', 'struct']\n",
    "\n",
    "#data_path = '../../data/RNAcompete_2013/rnacompete2013.h5'\n",
    "#experiments = helper.get_experiments_hdf5(data_path)\n",
    "\n",
    "results_path = os.path.join('../../results', 'RNAcompete_2013')\n",
    "\n",
    "for ss_type in ss_types:\n",
    "    for model in models:\n",
    "        sstype_path = os.path.join(results_path, normalize_method+'_'+ss_type)\n",
    "        model_path = os.path.join(sstype_path, model)\n",
    "        # save results\n",
    "        with open(os.path.join(model_path, 'validation_scores.pickle'), 'rb') as f:\n",
    "            results = cPickle.load(f)\n",
    "            \n",
    "        print(ss_type+'-'+model+': '+str(np.mean(results)))"
   ]
  },
  {
   "cell_type": "code",
   "execution_count": null,
   "metadata": {
    "collapsed": true
   },
   "outputs": [],
   "source": [
    "\n",
    "# different deep learning models to try out\n",
    "models = ['affinity_conv_net', 'affinity_residual_net', 'affinity_all_conv_net']\n",
    "normalize_method = 'clip_norm'   # 'clip_norm' 'log_norm'\n",
    "ss_types = ['seq']#, 'pu', 'struct']\n",
    "\n",
    "#data_path = '../../data/RNAcompete_2013/rnacompete2013.h5'\n",
    "#experiments = helper.get_experiments_hdf5(data_path)\n",
    "\n",
    "results_path = os.path.join('../../results', 'RNAcompete_2013')\n",
    "\n",
    "for ss_type in ss_types:\n",
    "    for model in models:\n",
    "        sstype_path = os.path.join(results_path, normalize_method+'_'+ss_type)\n",
    "        model_path = os.path.join(sstype_path, model)\n",
    "        # save results\n",
    "        with open(os.path.join(model_path, 'test_scores.pickle'), 'rb') as f:\n",
    "            results = cPickle.load(f)\n",
    "            \n",
    "        print(ss_type+'-'+model+': '+str(np.mean(results)))"
   ]
  }
 ],
 "metadata": {
  "kernelspec": {
   "display_name": "Python 2",
   "language": "python",
   "name": "python2"
  },
  "language_info": {
   "codemirror_mode": {
    "name": "ipython",
    "version": 2
   },
   "file_extension": ".py",
   "mimetype": "text/x-python",
   "name": "python",
   "nbconvert_exporter": "python",
   "pygments_lexer": "ipython2",
   "version": "2.7.13"
  }
 },
 "nbformat": 4,
 "nbformat_minor": 2
}
